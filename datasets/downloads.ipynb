{
 "cells": [
  {
   "cell_type": "markdown",
   "id": "184b986a",
   "metadata": {},
   "source": [
    "### Dataset 1."
   ]
  },
  {
   "cell_type": "code",
   "execution_count": 1,
   "id": "cb1d6a18",
   "metadata": {},
   "outputs": [
    {
     "name": "stderr",
     "output_type": "stream",
     "text": [
      "/Users/yusufsurmen/Job-Recommender/.venv/lib/python3.14/site-packages/tqdm/auto.py:21: TqdmWarning: IProgress not found. Please update jupyter and ipywidgets. See https://ipywidgets.readthedocs.io/en/stable/user_install.html\n",
      "  from .autonotebook import tqdm as notebook_tqdm\n"
     ]
    },
    {
     "name": "stdout",
     "output_type": "stream",
     "text": [
      "Path to dataset files: /Users/yusufsurmen/.cache/kagglehub/datasets/gauravduttakiit/resume-dataset/versions/1\n"
     ]
    }
   ],
   "source": [
    "import kagglehub\n",
    "\n",
    "# Download latest version\n",
    "path = kagglehub.dataset_download(\"gauravduttakiit/resume-dataset\")\n",
    "\n",
    "print(\"Path to dataset files:\", path)"
   ]
  },
  {
   "cell_type": "markdown",
   "id": "1c46d5d2",
   "metadata": {},
   "source": [
    "### Dataset 2."
   ]
  },
  {
   "cell_type": "code",
   "execution_count": 4,
   "id": "3dae961e",
   "metadata": {},
   "outputs": [],
   "source": [
    "import pandas as pd\n",
    "\n",
    "df = pd.read_csv(\"hf://datasets/InferencePrince555/Resume-Dataset/updated_data_final_cleaned.csv\")\n",
    "df.to_csv(\"InferencePrince555_Resume_data.csv\")"
   ]
  },
  {
   "cell_type": "markdown",
   "id": "87174214",
   "metadata": {},
   "source": [
    "### Dataset 3"
   ]
  },
  {
   "cell_type": "code",
   "execution_count": 5,
   "id": "e8e4431f",
   "metadata": {},
   "outputs": [
    {
     "name": "stdout",
     "output_type": "stream",
     "text": [
      "Downloading from https://www.kaggle.com/api/v1/datasets/download/suriyaganesh/resume-dataset-structured?dataset_version_number=2...\n"
     ]
    },
    {
     "name": "stderr",
     "output_type": "stream",
     "text": [
      "100%|██████████| 38.0M/38.0M [00:02<00:00, 18.6MB/s]"
     ]
    },
    {
     "name": "stdout",
     "output_type": "stream",
     "text": [
      "Extracting files...\n"
     ]
    },
    {
     "name": "stderr",
     "output_type": "stream",
     "text": [
      "\n"
     ]
    },
    {
     "name": "stdout",
     "output_type": "stream",
     "text": [
      "Path to dataset files: /Users/yusufsurmen/.cache/kagglehub/datasets/suriyaganesh/resume-dataset-structured/versions/2\n"
     ]
    }
   ],
   "source": [
    "path = kagglehub.dataset_download(\"suriyaganesh/resume-dataset-structured\")\n",
    "\n",
    "print(\"Path to dataset files:\", path)"
   ]
  },
  {
   "cell_type": "markdown",
   "id": "1e0bb587",
   "metadata": {},
   "source": [
    "### Dataset 4"
   ]
  },
  {
   "cell_type": "code",
   "execution_count": 6,
   "id": "ae225b96",
   "metadata": {},
   "outputs": [
    {
     "name": "stdout",
     "output_type": "stream",
     "text": [
      "Downloading from https://www.kaggle.com/api/v1/datasets/download/wahib04/multilabel-resume-dataset?dataset_version_number=1...\n"
     ]
    },
    {
     "name": "stderr",
     "output_type": "stream",
     "text": [
      "100%|██████████| 59.7M/59.7M [00:02<00:00, 23.2MB/s]"
     ]
    },
    {
     "name": "stdout",
     "output_type": "stream",
     "text": [
      "Extracting files...\n"
     ]
    },
    {
     "name": "stderr",
     "output_type": "stream",
     "text": [
      "\n"
     ]
    },
    {
     "name": "stdout",
     "output_type": "stream",
     "text": [
      "Path to dataset files: /Users/yusufsurmen/.cache/kagglehub/datasets/wahib04/multilabel-resume-dataset/versions/1\n"
     ]
    }
   ],
   "source": [
    "path = kagglehub.dataset_download(\"wahib04/multilabel-resume-dataset\")\n",
    "\n",
    "print(\"Path to dataset files:\", path)"
   ]
  },
  {
   "cell_type": "markdown",
   "id": "a892beaa",
   "metadata": {},
   "source": [
    "### Dataset 5"
   ]
  },
  {
   "cell_type": "code",
   "execution_count": 8,
   "id": "73647958",
   "metadata": {},
   "outputs": [],
   "source": [
    "df = pd.read_csv(\"hf://datasets/Sachinkelenjaguri/Resume_dataset/UpdatedResumeDataSet.csv\")\n",
    "df.to_csv(\"Sachinkelenjaguri_resume_Dataset.csv\")"
   ]
  },
  {
   "cell_type": "markdown",
   "id": "d35f772f",
   "metadata": {},
   "source": [
    "### Dataset 6."
   ]
  },
  {
   "cell_type": "code",
   "execution_count": 10,
   "id": "0b5821b3",
   "metadata": {},
   "outputs": [],
   "source": [
    "df = pd.read_csv(\"hf://datasets/ahmedheakl/resume-atlas/train.csv\")\n",
    "df.to_csv(\"ahmedheakl_resume_atlas.csv\")"
   ]
  },
  {
   "cell_type": "markdown",
   "id": "6ade87c6",
   "metadata": {},
   "source": [
    "### Dataset 7"
   ]
  },
  {
   "cell_type": "code",
   "execution_count": 11,
   "id": "b9ffa60b",
   "metadata": {},
   "outputs": [
    {
     "name": "stdout",
     "output_type": "stream",
     "text": [
      "Downloading from https://www.kaggle.com/api/v1/datasets/download/someetsingh/resume-data-set-for-nlp?dataset_version_number=1...\n"
     ]
    },
    {
     "name": "stderr",
     "output_type": "stream",
     "text": [
      "100%|██████████| 383k/383k [00:00<00:00, 997kB/s] "
     ]
    },
    {
     "name": "stdout",
     "output_type": "stream",
     "text": [
      "Extracting files...\n",
      "Path to dataset files: /Users/yusufsurmen/.cache/kagglehub/datasets/someetsingh/resume-data-set-for-nlp/versions/1\n"
     ]
    },
    {
     "name": "stderr",
     "output_type": "stream",
     "text": [
      "\n"
     ]
    }
   ],
   "source": [
    "path = kagglehub.dataset_download(\"someetsingh/resume-data-set-for-nlp\")\n",
    "\n",
    "print(\"Path to dataset files:\", path)"
   ]
  }
 ],
 "metadata": {
  "kernelspec": {
   "display_name": "Job-Recommender (3.13.7)",
   "language": "python",
   "name": "python3"
  },
  "language_info": {
   "codemirror_mode": {
    "name": "ipython",
    "version": 3
   },
   "file_extension": ".py",
   "mimetype": "text/x-python",
   "name": "python",
   "nbconvert_exporter": "python",
   "pygments_lexer": "ipython3",
   "version": "3.13.7"
  }
 },
 "nbformat": 4,
 "nbformat_minor": 5
}
