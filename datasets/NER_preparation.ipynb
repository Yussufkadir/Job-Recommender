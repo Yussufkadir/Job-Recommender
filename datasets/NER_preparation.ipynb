{
 "cells": [
  {
   "cell_type": "code",
   "execution_count": 18,
   "id": "d9e40fef",
   "metadata": {},
   "outputs": [],
   "source": [
    "import spacy\n",
    "import pathlib\n",
    "import json\n",
    "import os\n",
    "from spacy.tokens import DocBin\n",
    "from spacy.util import filter_spans\n",
    "import re"
   ]
  },
  {
   "cell_type": "markdown",
   "id": "e341debc",
   "metadata": {},
   "source": [
    "#### Load the json data"
   ]
  },
  {
   "cell_type": "code",
   "execution_count": null,
   "id": "8e0460a5",
   "metadata": {},
   "outputs": [
    {
     "name": "stdout",
     "output_type": "stream",
     "text": [
      "Total examples: 5029\n",
      "Training examples: 4023\n",
      "Dev examples: 1006\n",
      "✅ Created train.spacy and dev.spacy\n",
      "✅ Created train.spacy and dev.spacy\n"
     ]
    }
   ],
   "source": [
    "root_dir = os.getcwd()\n",
    "directory_path = os.path.join(root_dir, \"ResumesJsonAnnotated\")\n",
    "\n",
    "data = []\n",
    "for filename in os.listdir(directory_path):\n",
    "    if filename.endswith(\".json\"):\n",
    "        with open(os.path.join(directory_path, filename), \"r\", encoding=\"utf-8\", errors=\"replace\") as file:\n",
    "            data.append(json.load(file))\n",
    "\n",
    "def surrogate_remover(text):\n",
    "    return re.sub(r'[\\ud800-\\udfff]', '', text)\n",
    "\n",
    "formatted_data = []\n",
    "for items in data:\n",
    "    text = surrogate_remover(items['text'])\n",
    "    ents = []\n",
    "    for ann in items[\"annotations\"]:\n",
    "        start, end, label = ann\n",
    "        ents.append((start, end, label))\n",
    "    formatted_data.append((text, {\"entities\": ents}))\n",
    "\n",
    "split_idx = int(len(formatted_data) * 0.8)\n",
    "train_data = formatted_data[:split_idx]\n",
    "dev_data = formatted_data[split_idx:]\n",
    "\n",
    "print(f\"Total examples: {len(formatted_data)}\")\n",
    "print(f\"Training examples: {len(train_data)}\")\n",
    "print(f\"Dev examples: {len(dev_data)}\")\n",
    "\n",
    "nlp = spacy.blank(\"en\")\n",
    "\n",
    "train_doc_bin = DocBin()\n",
    "for text, annotation in train_data:\n",
    "    doc = nlp.make_doc(text)\n",
    "    ents = []\n",
    "    for start, end, label in annotation[\"entities\"]:\n",
    "        span = doc.char_span(start, end, label=label)\n",
    "        if span:\n",
    "            ents.append(span)\n",
    "    ents = filter_spans(ents)\n",
    "    doc.ents = ents\n",
    "    train_doc_bin.add(doc)\n",
    "\n",
    "train_doc_bin.to_disk(\"train.spacy\")\n",
    "\n",
    "dev_doc_bin = DocBin()\n",
    "for text, annotation in dev_data:\n",
    "    doc = nlp.make_doc(text)\n",
    "    ents = []\n",
    "    for start, end, label in annotation[\"entities\"]:\n",
    "        span = doc.char_span(start, end, label=label)\n",
    "        if span:\n",
    "            ents.append(span)\n",
    "    ents = filter_spans(ents)\n",
    "    doc.ents = ents\n",
    "    dev_doc_bin.add(doc)\n",
    "\n",
    "dev_doc_bin.to_disk(\"dev.spacy\")\n",
    "print(\"✅ Created train.spacy and dev.spacy\")"
   ]
  }
 ],
 "metadata": {
  "kernelspec": {
   "display_name": "Job-Recommender-2 (3.12.12)",
   "language": "python",
   "name": "python3"
  },
  "language_info": {
   "codemirror_mode": {
    "name": "ipython",
    "version": 3
   },
   "file_extension": ".py",
   "mimetype": "text/x-python",
   "name": "python",
   "nbconvert_exporter": "python",
   "pygments_lexer": "ipython3",
   "version": "3.12.12"
  }
 },
 "nbformat": 4,
 "nbformat_minor": 5
}
